{
  "nbformat": 4,
  "nbformat_minor": 0,
  "metadata": {
    "colab": {
      "name": "Untitled0.ipynb",
      "provenance": [],
      "authorship_tag": "ABX9TyObQLc4uz2OJ7Hnebkq1pBl",
      "include_colab_link": true
    },
    "kernelspec": {
      "name": "python3",
      "display_name": "Python 3"
    }
  },
  "cells": [
    {
      "cell_type": "markdown",
      "metadata": {
        "id": "view-in-github",
        "colab_type": "text"
      },
      "source": [
        "<a href=\"https://colab.research.google.com/github/ChinaYiqun/ChineseAug/blob/master/Untitled0.ipynb\" target=\"_parent\"><img src=\"https://colab.research.google.com/assets/colab-badge.svg\" alt=\"Open In Colab\"/></a>"
      ]
    },
    {
      "cell_type": "code",
      "metadata": {
        "id": "uj3VfViP_X0L",
        "colab_type": "code",
        "colab": {
          "base_uri": "https://localhost:8080/",
          "height": 311
        },
        "outputId": "9effc3ce-c881-44f9-ccea-3781c520e97e"
      },
      "source": [
        "!pip install synonyms"
      ],
      "execution_count": 2,
      "outputs": [
        {
          "output_type": "stream",
          "text": [
            "Collecting synonyms\n",
            "\u001b[?25l  Downloading https://files.pythonhosted.org/packages/3e/47/065b8f34aad7bbf34447df72e4188a5ac6ae7106af5e2f91f5a0ed33f4e0/synonyms-3.10.2.tar.gz (54.5MB)\n",
            "\u001b[K     |████████████████████████████████| 54.5MB 73kB/s \n",
            "\u001b[?25hRequirement already satisfied: six>=1.11.0 in /usr/local/lib/python3.6/dist-packages (from synonyms) (1.12.0)\n",
            "Requirement already satisfied: numpy>=1.13.1 in /usr/local/lib/python3.6/dist-packages (from synonyms) (1.18.4)\n",
            "Requirement already satisfied: scipy>=1.0.0 in /usr/local/lib/python3.6/dist-packages (from synonyms) (1.4.1)\n",
            "Requirement already satisfied: scikit-learn>=0.19.1 in /usr/local/lib/python3.6/dist-packages (from synonyms) (0.22.2.post1)\n",
            "Requirement already satisfied: absl-py>=0.4 in /usr/local/lib/python3.6/dist-packages (from synonyms) (0.9.0)\n",
            "Requirement already satisfied: joblib>=0.11 in /usr/local/lib/python3.6/dist-packages (from scikit-learn>=0.19.1->synonyms) (0.15.1)\n",
            "Building wheels for collected packages: synonyms\n",
            "  Building wheel for synonyms (setup.py) ... \u001b[?25l\u001b[?25hdone\n",
            "  Created wheel for synonyms: filename=synonyms-3.10.2-cp36-none-any.whl size=54555990 sha256=bde502b8c34e70495aa4f24fb085e067a441e075bb0e9348df4eb6c7106d79af\n",
            "  Stored in directory: /root/.cache/pip/wheels/35/34/8c/195ac92995b84be9e93dcc5ddbea940a1545bbca9a919e93b5\n",
            "Successfully built synonyms\n",
            "Installing collected packages: synonyms\n",
            "Successfully installed synonyms-3.10.2\n"
          ],
          "name": "stdout"
        }
      ]
    },
    {
      "cell_type": "code",
      "metadata": {
        "id": "iTEVhWtV94M5",
        "colab_type": "code",
        "colab": {
          "base_uri": "https://localhost:8080/",
          "height": 202
        },
        "outputId": "3212de7b-deff-4f8f-d8c0-a116abdb06af"
      },
      "source": [
        "\n",
        "import pandas as pd\n",
        "import jieba\n",
        "import synonyms"
      ],
      "execution_count": 3,
      "outputs": [
        {
          "output_type": "stream",
          "text": [
            "Building prefix dict from /usr/local/lib/python3.6/dist-packages/synonyms/data/vocab.txt ...\n"
          ],
          "name": "stderr"
        },
        {
          "output_type": "stream",
          "text": [
            ">> Synonyms load wordseg dict [/usr/local/lib/python3.6/dist-packages/synonyms/data/vocab.txt] ... \n"
          ],
          "name": "stdout"
        },
        {
          "output_type": "stream",
          "text": [
            "Dumping model to file cache /tmp/jieba.ue7f9decb3b81a822f15f4292d4358480.cache\n",
            "Loading model cost 2.004 seconds.\n",
            "Prefix dict has been built successfully.\n"
          ],
          "name": "stderr"
        },
        {
          "output_type": "stream",
          "text": [
            ">> Synonyms on loading stopwords [/usr/local/lib/python3.6/dist-packages/synonyms/data/stopwords.txt] ...\n",
            ">> Synonyms on loading vectors [/usr/local/lib/python3.6/dist-packages/synonyms/data/words.vector] ...\n"
          ],
          "name": "stdout"
        },
        {
          "output_type": "stream",
          "text": [
            "/usr/local/lib/python3.6/dist-packages/smart_open/smart_open_lib.py:253: UserWarning: This function is deprecated, use smart_open.open instead. See the migration notes for details: https://github.com/RaRe-Technologies/smart_open/blob/master/README.rst#migrating-to-the-new-open-function\n",
            "  'See the migration notes for details: %s' % _MIGRATION_NOTES_URL\n"
          ],
          "name": "stderr"
        }
      ]
    },
    {
      "cell_type": "code",
      "metadata": {
        "id": "biHHKA5RBB2a",
        "colab_type": "code",
        "colab": {
          "base_uri": "https://localhost:8080/",
          "height": 54
        },
        "outputId": "9075058a-9bd6-40cd-8cfd-efa67c1fe6bb"
      },
      "source": [
        "# synonyms.word2vec\n",
        "test='最新、破解程序、免费游戏、电脑手机互联网资讯、帮你解决关于电脑和手机的一切问题 ！'\n",
        "# 不断更新、破译流程、预约该游戏、个人电脑iPhone因特网讯息、帮忙你彻底解决关于个人电脑和iPhone的一切原因 ！\n",
        "print(test)\n",
        "import jieba\n",
        "seg_list  = list(jieba.cut(test, cut_all=False))\n",
        "for i in range(len(seg_list)):\n",
        "    s = seg_list[i]\n",
        "    try:\n",
        "        if synonyms.nearby(s)[0]!= None:\n",
        "            s = synonyms.nearby(s)[0][2]\n",
        "    except:\n",
        "        pass\n",
        "    seg_list[i] = s\n",
        "    \n",
        "test = ''.join(seg_list)\n",
        "# if \n",
        "test"
      ],
      "execution_count": 4,
      "outputs": [
        {
          "output_type": "stream",
          "text": [
            "最新、破解程序、免费游戏、电脑手机互联网资讯、帮你解决关于电脑和手机的一切问题 ！\n"
          ],
          "name": "stdout"
        },
        {
          "output_type": "execute_result",
          "data": {
            "text/plain": [
              "'不断更新、破译流程、预约该游戏、个人电脑iPhone因特网讯息、帮忙你彻底解决关于个人电脑和iPhone的一切原因 ！'"
            ]
          },
          "metadata": {
            "tags": []
          },
          "execution_count": 4
        }
      ]
    }
  ]
}